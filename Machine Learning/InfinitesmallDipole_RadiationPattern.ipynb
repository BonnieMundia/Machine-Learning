{
 "cells": [
  {
   "cell_type": "markdown",
   "metadata": {},
   "source": [
    "### importing necessary modules"
   ]
  },
  {
   "cell_type": "code",
   "execution_count": null,
   "metadata": {},
   "outputs": [],
   "source": [
    "import numpy as np\n",
    "import matplotlib.pyplot as plt\n",
    "from mpl_toolkits.mplot3d import Axes3D\n"
   ]
  },
  {
   "cell_type": "markdown",
   "metadata": {},
   "source": [
    "### Defining Constants "
   ]
  },
  {
   "cell_type": "code",
   "execution_count": null,
   "metadata": {},
   "outputs": [],
   "source": [
    "mu_0 = 4 * np.pi * 1e-7  # Permeability of free space\n",
    "epsilon_0 = 8.854e-12    # Permittivity of free space\n",
    "c = 3e8                  # Speed of light in free space\n",
    "f = 1e9                  # Frequency (1 GHz)\n",
    "lambda_ = c / f          # Wavelength\n",
    "k = 2 * np.pi / lambda_  # Wave number\n"
   ]
  },
  {
   "cell_type": "code",
   "execution_count": null,
   "metadata": {},
   "outputs": [],
   "source": [
    "# Theta range for plotting\n",
    "theta = np.linspace(0, 2 * np.pi, 360)\n",
    "\n",
    "# Electric field (E) pattern for infinitesimal dipole\n",
    "E_theta = np.sin(theta)\n"
   ]
  },
  {
   "cell_type": "markdown",
   "metadata": {},
   "source": [
    "### 2D Plot in the x-z plane (cut through the radiation pattern)"
   ]
  },
  {
   "cell_type": "code",
   "execution_count": null,
   "metadata": {},
   "outputs": [],
   "source": [
    "plt.figure()\n",
    "plt.polar(theta, E_theta, label='E-field')\n",
    "plt.title('2D Radiation Pattern of Infinitesimal Dipole in x-z plane')\n",
    "plt.legend()\n",
    "plt.show()\n"
   ]
  },
  {
   "cell_type": "markdown",
   "metadata": {},
   "source": [
    "### 3D Plot of the radiation pattern"
   ]
  },
  {
   "cell_type": "code",
   "execution_count": null,
   "metadata": {},
   "outputs": [],
   "source": [
    "phi = np.linspace(0, 2 * np.pi, 360)\n",
    "theta, phi = np.meshgrid(theta, phi)\n",
    "\n",
    "# Far-field pattern in 3D (assume E-field only, H-field is orthogonal and can be derived from E-field)\n",
    "E_theta_3D = np.sin(theta)\n",
    "\n",
    "# Cartesian coordinates for 3D plotting\n",
    "X = E_theta_3D * np.sin(theta) * np.cos(phi)\n",
    "Y = E_theta_3D * np.sin(theta) * np.sin(phi)\n",
    "Z = E_theta_3D * np.cos(theta)\n",
    "\n",
    "fig = plt.figure()\n",
    "ax = fig.add_subplot(111, projection='3d')\n",
    "ax.plot_surface(X, Y, Z, cmap='viridis')\n",
    "ax.set_title('3D Radiation Pattern of Infinitesimal Dipole')\n",
    "plt.show()\n"
   ]
  }
 ],
 "metadata": {
  "kernelspec": {
   "display_name": "base",
   "language": "python",
   "name": "python3"
  },
  "language_info": {
   "name": "python",
   "version": "3.11.7"
  }
 },
 "nbformat": 4,
 "nbformat_minor": 2
}
