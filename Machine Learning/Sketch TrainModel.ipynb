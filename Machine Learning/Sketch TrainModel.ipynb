{
 "cells": [
  {
   "cell_type": "code",
   "execution_count": 1,
   "metadata": {},
   "outputs": [],
   "source": [
    "import pandas as pd\n",
    "from sklearn.model_selection import train_test_split\n",
    "from sklearn.preprocessing import LabelEncoder, OneHotEncoder\n",
    "from sklearn.compose import ColumnTransformer\n",
    "from sklearn.pipeline import Pipeline\n",
    "from sklearn.impute import SimpleImputer\n",
    "from sklearn.ensemble import RandomForestClassifier\n",
    "from sklearn.metrics import accuracy_score, classification_report\n",
    "\n",
    "\n"
   ]
  },
  {
   "cell_type": "code",
   "execution_count": 2,
   "metadata": {},
   "outputs": [
    {
     "name": "stdout",
     "output_type": "stream",
     "text": [
      "  TIME 24 HOURS  BASE/SUB BASE        COUNTY             ROAD         PLACE  \\\n",
      "0           630          KITUI       MAKUENI    KITUI-ITHOKWE  KITUI SCHOOL   \n",
      "1           830            VOI  TAITA TAVETA  MOMBASA-NAIROBI        IKANGA   \n",
      "2          1330      MARIAKANI        KILIFI  MOMBASA-NAIROBI      KATOLANI   \n",
      "3          2100  ONGATA RONGAI        NAKURU   NAKURU-NAIROBI  MAASAI LODGE   \n",
      "4          1900          MATUU      MACHAKOS     MATUU-MWINGI     KIVANDINI   \n",
      "\n",
      "                                         MV INVOLVED  \\\n",
      "0                         KAV 479E & KMCZ 732L SKYGO   \n",
      "1  KCC 763/ZF 0097 MAKE RENAULT TRUCK & KMDN 759R...   \n",
      "2                                   KMDK 017U HAOJIN   \n",
      "3                               KAL 900K RANGE ROVER   \n",
      "4                            KAQ 865Z TOYOTA COROLLA   \n",
      "\n",
      "                              BRIEF ACCIDENT DETAILS NAME OF VICTIM GENDER  \\\n",
      "0                                  HEAD ON COLLISION        UNKNOWN      M   \n",
      "1                                  HEAD ON COLLISION        UNKNOWN      M   \n",
      "2                THE UNKNOWN M/V HIT THE MOTOR CYCLE        UNKNOWN      M   \n",
      "3  THE VEHICLE KNOCKED DOWN A PEDESTRIAN WHO WAS ...        UNKNOWN      M   \n",
      "4  THE VEHICLE OVERTOOK A M/CYCLE AND LOST CONTRO...        UNKNOWN      M   \n",
      "\n",
      "     AGE CAUSE CODE      VICTIM NO.      DATE  \n",
      "0     26          7   M/CYCLIST   1  06/25/16  \n",
      "1     28         25   M/CYCLIST   1  06/25/16  \n",
      "2  A & J         98   M/CYCLIST   1  06/25/16  \n",
      "3     65         29  PEDESTRIAN   1  06/25/16  \n",
      "4      A         10   PASSENGER   1  06/25/16  \n"
     ]
    }
   ],
   "source": [
    "df = pd.read_csv('AccidentsData.csv')\n",
    "print(df.head())\n"
   ]
  },
  {
   "cell_type": "code",
   "execution_count": 4,
   "metadata": {},
   "outputs": [],
   "source": [
    "\n",
    "# List of columns to remove\n",
    "columns_to_remove = ['BASE/SUB BASE', 'PLACE', 'MV INVOLVED', 'BRIEF ACCIDENT DETAILS', 'NAME OF VICTIM', 'NO.', 'DATE']\n",
    "df.drop(columns=columns_to_remove, inplace=True)\n",
    "\n",
    "df.fillna('UNKNOWN', inplace=True)\n",
    "\n",
    "# Separate the features and the target variable\n",
    "X = df.drop(columns=['GENDER'])\n",
    "y = df['GENDER']\n",
    "\n"
   ]
  },
  {
   "cell_type": "code",
   "execution_count": null,
   "metadata": {},
   "outputs": [],
   "source": [
    "# Encode categorical features using OneHotEncoder\n",
    "categorical_features = X.select_dtypes(include=['object']).columns\n",
    "preprocessor = ColumnTransformer(\n",
    "    transformers=[\n",
    "        ('cat', OneHotEncoder(handle_unknown='ignore'), categorical_features)\n",
    "    ]\n",
    ")\n",
    "\n"
   ]
  },
  {
   "cell_type": "code",
   "execution_count": null,
   "metadata": {},
   "outputs": [],
   "source": [
    "# Encode the target variable using LabelEncoder\n",
    "label_encoder = LabelEncoder()\n",
    "y = label_encoder.fit_transform(y)\n"
   ]
  },
  {
   "cell_type": "code",
   "execution_count": null,
   "metadata": {},
   "outputs": [],
   "source": [
    "# Split the dataset into training and testing sets\n",
    "X_train, X_test, y_train, y_test = train_test_split(X, y, test_size=0.2, random_state=42)\n",
    "\n",
    "# Define the machine learning pipeline\n",
    "pipeline = Pipeline(steps=[\n",
    "    ('preprocessor', preprocessor),\n",
    "    ('classifier', RandomForestClassifier(random_state=42))\n",
    "])\n"
   ]
  },
  {
   "cell_type": "code",
   "execution_count": null,
   "metadata": {},
   "outputs": [],
   "source": [
    "\n",
    "\n",
    "# Train the model\n",
    "pipeline.fit(X_train, y_train)\n",
    "\n",
    "# Predict on the test set\n",
    "y_pred = pipeline.predict(X_test)\n",
    "\n",
    "# Evaluate the model\n",
    "accuracy = accuracy_score(y_test, y_pred)\n",
    "\n",
    "print(f'Accuracy: {accuracy}')"
   ]
  }
 ],
 "metadata": {
  "kernelspec": {
   "display_name": "base",
   "language": "python",
   "name": "python3"
  },
  "language_info": {
   "codemirror_mode": {
    "name": "ipython",
    "version": 3
   },
   "file_extension": ".py",
   "mimetype": "text/x-python",
   "name": "python",
   "nbconvert_exporter": "python",
   "pygments_lexer": "ipython3",
   "version": "3.11.7"
  }
 },
 "nbformat": 4,
 "nbformat_minor": 2
}
